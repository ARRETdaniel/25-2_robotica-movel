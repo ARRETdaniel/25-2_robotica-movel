{
 "cells": [
  {
   "cell_type": "markdown",
   "metadata": {},
   "source": [
    "# Robótica Móvel - Trabalho Prático 1\n",
    "---\n",
    "**Nome Completo:** Daniel Terra Gomes\n",
    "\n",
    "**Matrícula:** 2025702870 \n",
    "\n",
    "**Programa:** Mestrando do PPGCC\n",
    "**Departamento:** Departamento de Ciência da Computação\n",
    "**Instituição:** ICEx-UFMG\n",
    "**E-mail:** danielterragomes@ufmg.br\n",
    "\n",
    "**Data:** 11 de setembro de 2025\n",
    "\n",
    "---"
   ]
  },
  {
   "cell_type": "markdown",
   "metadata": {},
   "source": [
    "## Exercício 1: Criação da Cena no CoppeliaSim\n",
    "\n",
    "O primeiro passo foi criar uma cena no CoppeliaSim contendo um robô móvel (Pioneer 3DX) e cinco outros objetos distintos (pessoa, mesa, cadeira, planta, e caixote) para popular o ambiente de simulação. A imagem abaixo documenta a cena criada."
   ]
  },
  {
   "cell_type": "markdown",
   "metadata": {},
   "source": [
    "![CoppeliaSim Scene](Screenshot%20from%202025-09-04%2009-26-53.png)\n",
    "\n",
    "*Figura 1: Cena criada no CoppeliaSim contendo o robô Pioneer 3DX e cinco objetos distintos (pessoa, mesa, cadeira, planta, e caixote)*"
   ]
  },
  {
   "cell_type": "markdown",
   "metadata": {},
   "source": [
    "## Exercício 2: Diagrama de Transformações"
   ]
  },
  {
   "cell_type": "markdown",
   "metadata": {},
   "source": [
    "O diagrama a seguir representa as relações entre os sistemas de coordenadas dos objetos na cena. O frame do Mundo {W} serve como referência global. "
   ]
  },
  {
   "cell_type": "markdown",
   "metadata": {},
   "source": [
    "![Transformation Diagram](ex2-diagram.drawio.png)\n",
    "\n",
    "*Figura 2: Diagrama de transformações mostrando o sistema de coordenadas do ex.1 e as relações entre os diferentes sistemas de coordenadas na cena. As setas sólidas (Verdes) representam transformações diretas do objeto conhecidos, enquanto a seta (Vermelha) mostra uma transformação desejada (Desconhecida).*"
   ]
  },
  {
   "cell_type": "markdown",
   "metadata": {},
   "source": [
    "## Exercício 3: Código - Matrizes de Transformação Homogênea\n",
    "\n",
    "O código abaixo conecta-se à simulação, obtém o pose (posição e orientação) de cada objeto em relação ao frame do mundo {W} e calcula a matriz de transformação homogênea correspondente."
   ]
  },
  {
   "cell_type": "code",
   "execution_count": null,
   "metadata": {},
   "outputs": [],
   "source": [
    "import numpy as np\n",
    "from coppeliasim_zmqremoteapi_client import RemoteAPIClient\n",
    "import math\n",
    "\n",
    "# --- Funções Auxiliares ---\n",
    "def euler_to_rotation_matrix(alpha, beta, gamma):\n",
    "    \"\"\"Converte ângulos de Euler (em radianos) para uma matriz de rotação 3x3.\"\"\"\n",
    "    # TODO: Implementar a construção das matrizes Rx, Ry, Rz\n",
    "    R_x = np.array([[1, 0, 0],\n",
    "                      [0, math.cos(alpha), -math.sin(alpha)],\n",
    "                      [0, math.sin(alpha), math.cos(alpha)]])\n",
    "\n",
    "    R_y = np.array([[math.cos(beta), 0, math.sin(beta)],\n",
    "                      [0, 1, 0],\n",
    "                      [-math.sin(beta), 0, math.cos(beta)]])\n",
    "\n",
    "    R_z = np.array([[math.cos(gamma), -math.sin(gamma), 0],\n",
    "                      [math.sin(gamma), math.cos(gamma), 0],\n",
    "                      [0, 0, 1]])\n",
    "\n",
    "    # TODO: Multiplicar as matrizes na ordem correta (Rz * Ry * Rx)\n",
    "    R = np.dot(R_z, np.dot(R_y, R_x))\n",
    "    return R\n",
    "\n",
    "def create_homogeneous_matrix(R, P):\n",
    "    \"\"\"Monta a matriz de transformação homogênea 4x4 a partir de R (3x3) e P (3x1).\"\"\"\n",
    "    T = np.identity(4)\n",
    "    T[:3, :3] = R\n",
    "    T[:3, 3] = P\n",
    "    return T\n",
    "\n",
    "# --- Conexão com o CoppeliaSim ---\n",
    "client = RemoteAPIClient()\n",
    "sim = client.require('sim')\n",
    "sim.startSimulation()\n",
    "\n",
    "print('Conectado ao CoppeliaSim!')\n",
    "\n",
    "# --- Lógica Principal ---\n",
    "object_paths = {\n",
    "    'Robot': '/PioneerP3DX',\n",
    "    'Bill': '/Bill',\n",
    "    'Chair': '/DiningChair',\n",
    "    'Table': '/DiningTable',\n",
    "    'Plant': '/IndoorPlant',\n",
    "    'Crate': '/Crate'\n",
    "}\n",
    "\n",
    "transforms = {}\n",
    "\n",
    "for name, path in object_paths.items():\n",
    "    print(f\"\\n--- Processando: {name} ---\")\n",
    "\n",
    "    # 1. Obter o handle do objeto\n",
    "    handle = sim.getObject(path)\n",
    "    if handle == -1:\n",
    "        print(f\"Erro: Objeto '{name}' não encontrado no caminho '{path}'.\")\n",
    "        continue\n",
    "\n",
    "    # 2. Obter posição e orientação em relação ao mundo\n",
    "    position = sim.getObjectPosition(handle, sim.handle_world)\n",
    "    orientation_euler = sim.getObjectOrientation(handle, sim.handle_world) # Em radianos!\n",
    "\n",
    "    # 3. Calcular a Matriz de Rotação\n",
    "    rotation_matrix = euler_to_rotation_matrix(orientation_euler[0], orientation_euler[1], orientation_euler[2])\n",
    "\n",
    "    # 4. Montar a Matriz Homogênea\n",
    "    homogeneous_matrix = create_homogeneous_matrix(rotation_matrix, position)\n",
    "    transforms[name] = homogeneous_matrix\n",
    "\n",
    "    # 5. Imprimir os resultados\n",
    "    print(f\"Posição (x, y, z): {np.round(position, 3)}\")\n",
    "    print(f\"Orientação (alpha, beta, gamma) em graus: {np.round(np.rad2deg(orientation_euler), 3)}\")\n",
    "    print(f\"Matriz de Transformação Homogênea de '{name}' para o Mundo:\")\n",
    "    print(np.round(homogeneous_matrix, 3))\n",
    "\n",
    "sim.stopSimulation()"
   ]
  },
  {
   "cell_type": "markdown",
   "metadata": {},
   "source": [
    "## Exercício 4: Transformação Inversa\n",
    "\n",
    "Calcular a transformação do mundo em relação a um objeto (e.g., ${}_{W}^{R}T$). Isso é feito calculando a inversa da matriz ${}_{R}^{W}T$."
   ]
  },
  {
   "cell_type": "code",
   "execution_count": null,
   "metadata": {},
   "outputs": [],
   "source": [
    "# TODO: Pegar uma das matrizes calculadas (ex: a do robô)\n",
    "T_Robot_W = transforms.get('Robot')\n",
    "\n",
    "if T_Robot_W is not None:\n",
    "    # TODO: Calcular a inversa usando np.linalg.inv()\n",
    "    T_W_Robot = np.linalg.inv(T_Robot_W)\n",
    "\n",
    "    print(\"Matriz de Transformação do Robô para o Mundo (T_R^W):\")\n",
    "    print(np.round(T_Robot_W, 3))\n",
    "    print(\"\\nMatriz de Transformação do Mundo para o Robô (T_W^R):\")\n",
    "    print(np.round(T_W_Robot, 3))"
   ]
  },
  {
   "cell_type": "markdown",
   "metadata": {},
   "source": [
    "## Exercício 5: Transformação Composta\n",
    "\n",
    "Calcular a transformação de um objeto para outro (e.g., a planta em relação ao robô, ${}_{P}^{R}T$). A fórmula é: ${}_{P}^{R}T = ({}_{R}^{W}T)^{-1} \\cdot {}_{P}^{W}T$."
   ]
  },
  {
   "cell_type": "code",
   "execution_count": null,
   "metadata": {},
   "outputs": [],
   "source": [
    "# TODO: Pegar as matrizes necessárias\n",
    "T_Robot_W = transforms.get('Robot')\n",
    "T_Plant_W = transforms.get('Plant')\n",
    "\n",
    "if T_Robot_W is not None and T_Plant_W is not None:\n",
    "    # TODO: Calcular a inversa de T_Robot_W\n",
    "    T_W_Robot = np.linalg.inv(T_Robot_W)\n",
    "\n",
    "    # TODO: Multiplicar as matrizes para obter a transformação composta\n",
    "    T_Plant_Robot = np.dot(T_W_Robot, T_Plant_W)\n",
    "\n",
    "    print(\"Matriz de Transformação da Planta para o Robô (T_P^R):\")\n",
    "    print(np.round(T_Plant_Robot, 3))"
   ]
  },
  {
   "cell_type": "markdown",
   "metadata": {},
   "source": [
    "## Exercício 6: Mapeamento de Pontos\n",
    "\n",
    "Definir um ponto no referencial de um objeto (e.g., a planta) e usar a matriz de transformação para descobrir onde este ponto se localiza no referencial do robô."
   ]
  },
  {
   "cell_type": "code",
   "execution_count": null,
   "metadata": {},
   "outputs": [],
   "source": [
    "# TODO: Definir um ponto no referencial da Planta {P}\n",
    "# Lembre-se de usar coordenadas homogêneas (adicionar o 1 no final)\n",
    "P_point_in_Plant_frame = np.array([0.1, 0, 0.5, 1]) # Ex: um ponto 10cm à frente e 50cm acima da origem da planta\n",
    "\n",
    "# TODO: Usar a matriz T_Plant_Robot para transformar o ponto\n",
    "if 'T_Plant_Robot' in locals():\n",
    "    P_point_in_Robot_frame = np.dot(T_Plant_Robot, P_point_in_Plant_frame)\n",
    "\n",
    "    print(f\"O ponto {P_point_in_Plant_frame[:3]} no referencial da Planta\")\n",
    "    print(f\"está na posição {np.round(P_point_in_Robot_frame[:3], 3)} no referencial do Robô.\")"
   ]
  },
  {
   "cell_type": "markdown",
   "metadata": {},
   "source": [
    "## Detalhes da Implementação\n",
    "\n",
    "*(Nesta seção, descreva as decisões que você tomou, as bibliotecas que usou (NumPy, ZMQ, etc.), e como o seu código está estruturado. Explique o que cada função auxiliar faz.)*"
   ]
  },
  {
   "cell_type": "markdown",
   "metadata": {},
   "source": [
    "## Conclusão\n",
    "\n",
    "*(Aqui você pode fazer comentários gerais sobre o trabalho, as principais dificuldades que encontrou, e o que aprendeu com a atividade.)*"
   ]
  }
 ],
 "metadata": {
  "kernelspec": {
   "display_name": "Python 3",
   "language": "python",
   "name": "python3"
  },
  "language_info": {
   "codemirror_mode": {
    "name": "ipython",
    "version": 3
   },
   "file_extension": ".py",
   "mimetype": "text/x-python",
   "name": "python",
   "nbconvert_exporter": "python",
   "pygments_lexer": "ipython3",
   "version": "3.12.0"
  }
 },
 "nbformat": 4,
 "nbformat_minor": 2
}
