{
 "cells": [
  {
   "cell_type": "markdown",
   "id": "44952e51",
   "metadata": {},
   "source": [
    "# Robótica Móvel - Trabalho Prático 1 (Exercícios 5-6)\n",
    "---\n",
    "**Nome Completo:** Daniel Terra Gomes\n",
    "\n",
    "**Matrícula:** 2025702870 \n",
    "\n",
    "**Programa:** Mestrando do PPGCC  \n",
    "**Departamento:** Departamento de Ciência da Computação  \n",
    "**Instituição:** ICEx-UFMG  \n",
    "**E-mail:** danielterragomes@ufmg.br\n",
    "\n",
    "**Data:** 11 de setembro de 2025\n",
    "\n",
    "---\n",
    "\n",
    "Este notebook implementa os exercícios 5-6 do TP1, focando em:\n",
    "- Integração de sensores laser (Hokuyo)\n",
    "- Transformação de dados de sensores para frame global\n",
    "- Navegação autônoma básica\n",
    "- Mapeamento incremental com dados de laser\n",
    "\n",
    "**Atenção:** Use a cena `T1-ex5.ttt` que contém o robô Pioneer P3DX com sensor laser."
   ]
  }
 ],
 "metadata": {
  "kernelspec": {
   "display_name": "coppeliasim_env",
   "language": "python",
   "name": "python3"
  },
  "language_info": {
   "codemirror_mode": {
    "name": "ipython",
    "version": 3
   },
   "file_extension": ".py",
   "mimetype": "text/x-python",
   "name": "python",
   "nbconvert_exporter": "python",
   "pygments_lexer": "ipython3",
   "version": "3.13.7"
  }
 },
 "nbformat": 4,
 "nbformat_minor": 5
}
